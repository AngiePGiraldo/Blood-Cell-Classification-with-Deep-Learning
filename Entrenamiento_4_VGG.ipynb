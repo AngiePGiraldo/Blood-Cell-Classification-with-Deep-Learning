{
 "cells": [
  {
   "cell_type": "code",
   "execution_count": 28,
   "id": "a3afd5d3",
   "metadata": {},
   "outputs": [],
   "source": [
    "import tensorflow as tf\n",
    "from tensorflow.keras import layers, models\n",
    "from tensorflow.keras.preprocessing.image import ImageDataGenerator\n",
    "\n",
    "\n",
    "\n",
    "\n",
    "# Función para crear la VGG\n",
    "def build_vgg(input_shape, num_classes):\n",
    "\n",
    "  model = models.Sequential()\n",
    "\n",
    "  # Bloque 1\n",
    "  model.add(layers.Conv2D(32, (3, 3), activation='relu', padding='same', input_shape=input_shape))\n",
    "  model.add(layers.Conv2D(32, (3, 3), activation='relu', padding='same'))\n",
    "  model.add(layers.MaxPooling2D((2, 2)))\n",
    "\n",
    "  # Bloque 2\n",
    "  model.add(layers.Conv2D(64, (3, 3), activation='relu', padding='same'))\n",
    "  model.add(layers.Conv2D(64, (3, 3), activation='relu', padding='same'))\n",
    "  model.add(layers.MaxPooling2D((2, 2)))\n",
    "\n",
    "  # Bloque 3\n",
    "  model.add(layers.Conv2D(128, (3, 3), activation='relu', padding='same'))\n",
    "  model.add(layers.Conv2D(128, (3, 3), activation='relu', padding='same'))\n",
    "  model.add(layers.Conv2D(128, (3, 3), activation='relu', padding='same'))\n",
    "  model.add(layers.MaxPooling2D((2, 2)))\n",
    "\n",
    "\n",
    "  # Capas completamente conectadas\n",
    "  model.add(layers.Flatten())\n",
    "  model.add(layers.Dense(512, activation='relu'))\n",
    "  model.add(layers.Dense(5125, activation='relu'))\n",
    "\n",
    "  # Capa de salida\n",
    "  model.add(layers.Dense(4, activation='softmax'))\n",
    "\n",
    "  return model"
   ]
  },
  {
   "cell_type": "code",
   "execution_count": 29,
   "id": "ef8d53bd",
   "metadata": {},
   "outputs": [],
   "source": [
    "# Cargar datos\n",
    "train_dir =    'C:/Users/paola/OneDrive/Escritorio/parcial2Dl/images/TRAIN'\n",
    "val_dir =    'C:/Users/paola/OneDrive/Escritorio/parcial2Dl/images/TEST'\n",
    "image_size = (50, 50)"
   ]
  },
  {
   "cell_type": "code",
   "execution_count": 30,
   "id": "91336a33",
   "metadata": {},
   "outputs": [
    {
     "name": "stdout",
     "output_type": "stream",
     "text": [
      "Found 9957 images belonging to 4 classes.\n",
      "Found 2487 images belonging to 4 classes.\n"
     ]
    }
   ],
   "source": [
    "# preprocesar datos\n",
    "train_gen = ImageDataGenerator(rescale=1./255)\n",
    "valid_gen = ImageDataGenerator(rescale=1./255)\n",
    "\n",
    "train_generator = train_gen.flow_from_directory(\n",
    "        train_dir,\n",
    "        target_size=image_size,\n",
    "        batch_size=200)\n",
    "\n",
    "valid_generator = valid_gen.flow_from_directory(\n",
    "        val_dir,\n",
    "        target_size=image_size,\n",
    "        batch_size=200)\n",
    "        "
   ]
  },
  {
   "cell_type": "code",
   "execution_count": 31,
   "id": "75c6309a",
   "metadata": {},
   "outputs": [],
   "source": [
    "# Crear modelo VGG\n",
    "input_shape = image_size + (3,)\n",
    "num_classes = 1\n",
    "\n",
    "model = build_vgg(input_shape, num_classes)"
   ]
  },
  {
   "cell_type": "code",
   "execution_count": 32,
   "id": "61396f24",
   "metadata": {},
   "outputs": [
    {
     "name": "stdout",
     "output_type": "stream",
     "text": [
      "Model: \"sequential_8\"\n",
      "_________________________________________________________________\n",
      " Layer (type)                Output Shape              Param #   \n",
      "=================================================================\n",
      " conv2d_47 (Conv2D)          (None, 50, 50, 32)        896       \n",
      "                                                                 \n",
      " conv2d_48 (Conv2D)          (None, 50, 50, 32)        9248      \n",
      "                                                                 \n",
      " max_pooling2d_27 (MaxPoolin  (None, 25, 25, 32)       0         \n",
      " g2D)                                                            \n",
      "                                                                 \n",
      " conv2d_49 (Conv2D)          (None, 25, 25, 64)        18496     \n",
      "                                                                 \n",
      " conv2d_50 (Conv2D)          (None, 25, 25, 64)        36928     \n",
      "                                                                 \n",
      " max_pooling2d_28 (MaxPoolin  (None, 12, 12, 64)       0         \n",
      " g2D)                                                            \n",
      "                                                                 \n",
      " conv2d_51 (Conv2D)          (None, 12, 12, 128)       73856     \n",
      "                                                                 \n",
      " conv2d_52 (Conv2D)          (None, 12, 12, 128)       147584    \n",
      "                                                                 \n",
      " conv2d_53 (Conv2D)          (None, 12, 12, 128)       147584    \n",
      "                                                                 \n",
      " max_pooling2d_29 (MaxPoolin  (None, 6, 6, 128)        0         \n",
      " g2D)                                                            \n",
      "                                                                 \n",
      " flatten_4 (Flatten)         (None, 4608)              0         \n",
      "                                                                 \n",
      " dense_11 (Dense)            (None, 512)               2359808   \n",
      "                                                                 \n",
      " dense_12 (Dense)            (None, 5125)              2629125   \n",
      "                                                                 \n",
      " dense_13 (Dense)            (None, 4)                 20504     \n",
      "                                                                 \n",
      "=================================================================\n",
      "Total params: 5,444,029\n",
      "Trainable params: 5,444,029\n",
      "Non-trainable params: 0\n",
      "_________________________________________________________________\n"
     ]
    }
   ],
   "source": [
    "# Compilar modelo\n",
    "model.compile(optimizer='adam',loss='categorical_crossentropy',metrics=['accuracy'])\n",
    "model.summary()"
   ]
  },
  {
   "cell_type": "code",
   "execution_count": 33,
   "id": "95bcf3e4",
   "metadata": {},
   "outputs": [
    {
     "name": "stdout",
     "output_type": "stream",
     "text": [
      "Epoch 1/10\n",
      "50/50 [==============================] - 180s 4s/step - loss: 1.3911 - accuracy: 0.2476 - val_loss: 1.3864 - val_accuracy: 0.2505\n",
      "Epoch 2/10\n",
      "50/50 [==============================] - 183s 4s/step - loss: 1.3864 - accuracy: 0.2485 - val_loss: 1.3864 - val_accuracy: 0.2509\n",
      "Epoch 3/10\n",
      "50/50 [==============================] - 170s 3s/step - loss: 1.3865 - accuracy: 0.2476 - val_loss: 1.3863 - val_accuracy: 0.2493\n",
      "Epoch 4/10\n",
      "50/50 [==============================] - 173s 3s/step - loss: 1.3863 - accuracy: 0.2526 - val_loss: 1.3863 - val_accuracy: 0.2505\n",
      "Epoch 5/10\n",
      "50/50 [==============================] - 175s 4s/step - loss: 1.3864 - accuracy: 0.2435 - val_loss: 1.3863 - val_accuracy: 0.2505\n",
      "Epoch 6/10\n",
      "50/50 [==============================] - 178s 4s/step - loss: 1.3863 - accuracy: 0.2508 - val_loss: 1.3863 - val_accuracy: 0.2505\n",
      "Epoch 7/10\n",
      "50/50 [==============================] - 175s 4s/step - loss: 1.3864 - accuracy: 0.2506 - val_loss: 1.3863 - val_accuracy: 0.2509\n",
      "Epoch 8/10\n",
      "50/50 [==============================] - 172s 3s/step - loss: 1.3863 - accuracy: 0.2440 - val_loss: 1.3863 - val_accuracy: 0.2509\n",
      "Epoch 9/10\n",
      "50/50 [==============================] - 171s 3s/step - loss: 1.3863 - accuracy: 0.2498 - val_loss: 1.3863 - val_accuracy: 0.2505\n",
      "Epoch 10/10\n",
      "50/50 [==============================] - 171s 3s/step - loss: 1.3863 - accuracy: 0.2468 - val_loss: 1.3863 - val_accuracy: 0.2505\n"
     ]
    },
    {
     "data": {
      "text/plain": [
       "<keras.callbacks.History at 0x1f40522b988>"
      ]
     },
     "execution_count": 33,
     "metadata": {},
     "output_type": "execute_result"
    }
   ],
   "source": [
    "# Entrenar modelo\n",
    "model.fit(train_generator, validation_data=valid_generator, epochs=10)"
   ]
  },
  {
   "cell_type": "code",
   "execution_count": null,
   "id": "dddfe701",
   "metadata": {},
   "outputs": [],
   "source": []
  }
 ],
 "metadata": {
  "kernelspec": {
   "display_name": "Python 3 (ipykernel)",
   "language": "python",
   "name": "python3"
  },
  "language_info": {
   "codemirror_mode": {
    "name": "ipython",
    "version": 3
   },
   "file_extension": ".py",
   "mimetype": "text/x-python",
   "name": "python",
   "nbconvert_exporter": "python",
   "pygments_lexer": "ipython3",
   "version": "3.7.16"
  }
 },
 "nbformat": 4,
 "nbformat_minor": 5
}
